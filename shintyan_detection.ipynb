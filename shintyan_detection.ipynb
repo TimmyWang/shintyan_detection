{
 "cells": [
  {
   "cell_type": "markdown",
   "metadata": {},
   "source": [
    "## Make training and testing data"
   ]
  },
  {
   "cell_type": "code",
   "execution_count": 1,
   "metadata": {},
   "outputs": [],
   "source": [
    "from codes import video as v"
   ]
  },
  {
   "cell_type": "code",
   "execution_count": 3,
   "metadata": {},
   "outputs": [],
   "source": [
    "# make data for training \n",
    "video = v.Video()\n",
    "video.set_frame_size(600,900)\n",
    "video.set_image('shin2.jpg')\n",
    "video.set_rotation([0,15,30,45, -15, -30, -45]) # angles for image rotation\n",
    "video.set_size([150,166,184,200]) # size variations of the image \n",
    "video.generate_frames(1000, (20,30), 20) # num_of_frames, starting position(top left coordinate), step size\n",
    "video.output_frames('train',to_pickle=True)"
   ]
  },
  {
   "cell_type": "code",
   "execution_count": 2,
   "metadata": {},
   "outputs": [],
   "source": [
    "# make data for testing\n",
    "video = v.Video()\n",
    "video.set_frame_size(600,900)\n",
    "video.set_image('shin2.jpg')\n",
    "video.set_rotation([0,15,30,45, -15, -30, -45])\n",
    "video.set_size([150,166,184,200])\n",
    "video.generate_frames(200, (50,30), 20)\n",
    "video.output_frames('test',to_pickle=True)"
   ]
  },
  {
   "cell_type": "code",
   "execution_count": null,
   "metadata": {},
   "outputs": [],
   "source": []
  },
  {
   "cell_type": "markdown",
   "metadata": {},
   "source": [
    "## Model training"
   ]
  },
  {
   "cell_type": "code",
   "execution_count": 1,
   "metadata": {},
   "outputs": [
    {
     "name": "stderr",
     "output_type": "stream",
     "text": [
      "Using TensorFlow backend.\n"
     ]
    }
   ],
   "source": [
    "from codes import model as m\n",
    "import keras\n",
    "from keras.models import load_model\n",
    "from keras.callbacks import ModelCheckpoint\n",
    "import matplotlib.pyplot as plt"
   ]
  },
  {
   "cell_type": "code",
   "execution_count": 2,
   "metadata": {},
   "outputs": [],
   "source": [
    "# load data for training\n",
    "x, y, input_shape = m.get_labelled_data('train_frames', 'train_boxes')\n",
    "\n",
    "# to train a model from scratch or use a pretrained model \n",
    "#model_in_use = m.get_model(input_shape=input_shape)\n",
    "model_in_use = load_model('./models/best_model_1.hdf5', custom_objects={'my_loss':m.my_loss})\n",
    "\n",
    "# compile the model\n",
    "optimizer = keras.optimizers.Adam(learning_rate=0.001)\n",
    "model_in_use.compile(optimizer=optimizer, loss=m.my_loss)"
   ]
  },
  {
   "cell_type": "code",
   "execution_count": 12,
   "metadata": {
    "scrolled": true
   },
   "outputs": [],
   "source": [
    "# set configuration for training \n",
    "batch_size = 20\n",
    "no_epochs = 50\n",
    "validation_split = 0.2\n",
    "\n",
    "checkpoint = ModelCheckpoint(\n",
    "    \"models/best_model.hdf5\", monitor='val_loss', verbose=0, save_best_only=True, mode='auto', period=1\n",
    ")\n",
    "\n",
    "# start training\n",
    "history = model_in_use.fit(\n",
    "    x, y, epochs = no_epochs, batch_size = batch_size, verbose=0, \n",
    "    validation_split = validation_split, callbacks=[checkpoint]\n",
    ")"
   ]
  },
  {
   "cell_type": "code",
   "execution_count": 13,
   "metadata": {},
   "outputs": [
    {
     "data": {
      "image/png": "[encoded data removed]",
      "text/plain": [
       "<Figure size 432x288 with 1 Axes>"
      ]
     },
     "metadata": {
      "needs_background": "light"
     },
     "output_type": "display_data"
    }
   ],
   "source": [
    "# visualization of training and validation loss \n",
    "loss = history.history['loss']\n",
    "val_loss = history.history['val_loss']\n",
    "epochs = range(1, len(loss) + 1)\n",
    "\n",
    "plt.plot(epochs, loss, 'b', label='Training loss')\n",
    "plt.plot(epochs, val_loss, 'g', label='Validation loss')\n",
    "plt.title('Training and Validation loss')\n",
    "plt.legend()\n",
    "plt.show()"
   ]
  },
  {
   "cell_type": "markdown",
   "metadata": {},
   "source": [
    "## Model testing"
   ]
  },
  {
   "cell_type": "code",
   "execution_count": 2,
   "metadata": {},
   "outputs": [],
   "source": [
    "from keras.models import load_model\n",
    "import pickle"
   ]
  },
  {
   "cell_type": "code",
   "execution_count": 3,
   "metadata": {},
   "outputs": [
    {
     "data": {
      "text/plain": [
       "0.025343782976269724"
      ]
     },
     "execution_count": 3,
     "metadata": {},
     "output_type": "execute_result"
    }
   ],
   "source": [
    "# load data for testing\n",
    "x, y, _ = m.get_labelled_data('test_frames', 'test_boxes')\n",
    "\n",
    "# load the best model and evaluate it \n",
    "best_model = load_model('models/best_model.hdf5', custom_objects={'my_loss':m.my_loss})\n",
    "best_model.evaluate(x, y, verbose=0)"
   ]
  },
  {
   "cell_type": "code",
   "execution_count": 4,
   "metadata": {},
   "outputs": [],
   "source": [
    "# make prediction and save the result\n",
    "y_pred = best_model.predict(x)\n",
    "\n",
    "with open('pickle_files/test_boxes_pred.pickle','wb') as f: \n",
    "    pickle.dump(y_pred,f)"
   ]
  },
  {
   "cell_type": "code",
   "execution_count": 2,
   "metadata": {},
   "outputs": [],
   "source": [
    "# make video to check the result visually\n",
    "v.make_video_from_pickle('test_frames', 'test_boxes_pred', 'test_output')"
   ]
  },
  {
   "cell_type": "code",
   "execution_count": null,
   "metadata": {},
   "outputs": [],
   "source": []
  },
  {
   "cell_type": "code",
   "execution_count": null,
   "metadata": {},
   "outputs": [],
   "source": []
  },
  {
   "cell_type": "code",
   "execution_count": null,
   "metadata": {},
   "outputs": [],
   "source": []
  },
  {
   "cell_type": "code",
   "execution_count": null,
   "metadata": {},
   "outputs": [],
   "source": []
  },
  {
   "cell_type": "code",
   "execution_count": null,
   "metadata": {},
   "outputs": [],
   "source": []
  }
 ],
 "metadata": {
  "kernelspec": {
   "display_name": "Python [conda env:opencv]",
   "language": "python",
   "name": "conda-env-opencv-py"
  },
  "language_info": {
   "codemirror_mode": {
    "name": "ipython",
    "version": 3
   },
   "file_extension": ".py",
   "mimetype": "text/x-python",
   "name": "python",
   "nbconvert_exporter": "python",
   "pygments_lexer": "ipython3",
   "version": "3.8.3"
  }
 },
 "nbformat": 4,
 "nbformat_minor": 4
}
